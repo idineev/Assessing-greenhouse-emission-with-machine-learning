{
 "cells": [
  {
   "cell_type": "code",
   "execution_count": 1,
   "id": "49908603",
   "metadata": {},
   "outputs": [],
   "source": [
    "import os\n",
    "import numpy as np\n",
    "from pyhdf.SD import SD, SDC\n",
    "import re\n",
    "import datetime\n",
    "\n",
    "# Location of your hdf files\n",
    "folder = r\"C:\\Users\\idine\"\n",
    "\n",
    "# Variable names in the hdf files\n",
    "variables = [\n",
    "    \"Latitude\", \n",
    "    \"Longitude\", \n",
    "    \"mole_fraction_of_carbon_dioxide_in_free_troposphere\"\n",
    "]\n",
    "\n",
    "# Extract date from filename\n",
    "def get_date_from_filename(filename):\n",
    "    date_str = re.findall(r'\\d{4}\\.\\d{2}\\.\\d{2}', filename)[0]\n",
    "    return datetime.datetime.strptime(date_str, \"%Y.%m.%d\")\n",
    "\n",
    "# Get list of all hdf files in the folder\n",
    "files = [f for f in os.listdir(folder) if f.endswith(\".hdf\")]\n",
    "\n",
    "# Sort files by date\n",
    "files.sort(key=get_date_from_filename)\n",
    "\n",
    "\n",
    "# Initialize list to hold data and dates\n",
    "data_list = []\n",
    "date_list = []\n",
    "\n",
    "# Loop through all sorted hdf files in the folder\n",
    "for filename in files:\n",
    "    file = os.path.join(folder, filename)\n",
    "    \n",
    "    # Open the hdf file\n",
    "    hdf = SD(file, SDC.READ)\n",
    "    \n",
    "    # Temporarily store the variables\n",
    "    temp_data = []\n",
    "    \n",
    "    # Loop through each variable and append the data to the corresponding list\n",
    "    for var in variables:\n",
    "        temp_data.append(hdf.select(var)[:])\n",
    "    \n",
    "    # Append temporary data to main list\n",
    "    data_list.append(temp_data)\n",
    "    \n",
    "    # Get the date from the filename and convert to timestamp\n",
    "    date = get_date_from_filename(filename)\n",
    "    timestamp = date.timestamp()\n",
    "    \n",
    "    # Add timestamp to the date list\n",
    "    date_list.append(timestamp)\n",
    "    \n",
    "    # Close the file\n",
    "    hdf.end()\n",
    "\n",
    "# Convert lists to numpy arrays\n",
    "data_np = np.array(data_list)\n",
    "date_np = np.array(date_list)\n",
    "\n",
    "# Create a dictionary to store both arrays\n",
    "data_dict = {\"dates\": date_np, \"data\": data_np}"
   ]
  },
  {
   "cell_type": "code",
   "execution_count": 3,
   "id": "8c88c82f",
   "metadata": {},
   "outputs": [
    {
     "name": "stdout",
     "output_type": "stream",
     "text": [
      "(1646, 3, 91, 144)\n"
     ]
    }
   ],
   "source": [
    "np.set_printoptions(suppress=True)\n",
    "print(data_np.shape)\n",
    "latitudes = np.array(data_np[0][0])\n",
    "longitudes = np.array(data_np[0][1])\n"
   ]
  },
  {
   "cell_type": "code",
   "execution_count": 4,
   "id": "a0d668ed",
   "metadata": {},
   "outputs": [],
   "source": [
    "# Because satellite don't see lower \n",
    "data_np = data_np[:, :, :76, :]"
   ]
  },
  {
   "cell_type": "code",
   "execution_count": 5,
   "id": "9c8a7b8c",
   "metadata": {},
   "outputs": [],
   "source": [
    "# Replace -9999 with np.nan\n",
    "data_np[data_np == -9999] = None"
   ]
  },
  {
   "cell_type": "code",
   "execution_count": 78,
   "id": "853576bd",
   "metadata": {},
   "outputs": [],
   "source": [
    "# print(len(a), a)\n",
    "# print(a)"
   ]
  },
  {
   "cell_type": "code",
   "execution_count": 7,
   "id": "e37f8167",
   "metadata": {},
   "outputs": [],
   "source": [
    "from tensorflow.keras.models import Sequential\n",
    "from tensorflow.keras.layers import LSTM, Dense\n",
    "from sklearn.preprocessing import MinMaxScaler\n",
    "from sklearn.model_selection import train_test_split\n",
    "from scipy import interpolate"
   ]
  },
  {
   "cell_type": "code",
   "execution_count": 8,
   "id": "8aac6ddd",
   "metadata": {},
   "outputs": [],
   "source": [
    "target_var_index = 2"
   ]
  },
  {
   "cell_type": "code",
   "execution_count": 136,
   "id": "d3e20213",
   "metadata": {},
   "outputs": [],
   "source": [
    "# Temporally interpolate for each latitude/longitude\n",
    "for i in range(data_np.shape[2]):\n",
    "    for j in range(data_np.shape[3]):\n",
    "        valid_mask = np.isfinite(data_np[:, target_var_index, i, j])\n",
    "        if np.any(valid_mask):\n",
    "            interp_fn = interpolate.interp1d(np.flatnonzero(valid_mask), data_np[valid_mask, target_var_index, i, j], fill_value=\"extrapolate\")\n",
    "            data_np[:, target_var_index, i, j] = interp_fn(np.arange(data_np.shape[0]))\n",
    "            \n",
    "# Now, spatially interpolate for each day\n",
    "for t in range(data_np.shape[0]):\n",
    "    valid_mask = np.isfinite(data_np[t, target_var_index])\n",
    "    if np.any(valid_mask):\n",
    "        coords_known = np.column_stack(np.nonzero(valid_mask))\n",
    "        values_known = data_np[t, target_var_index][valid_mask]\n",
    "        coords_interp = np.column_stack(np.nonzero(~valid_mask))\n",
    "        data_np[t, target_var_index][~valid_mask] = interpolate.griddata(coords_known, values_known, coords_interp, method='nearest')\n",
    "\n",
    "data_np[:, 2, :, :][data_np[:, 2, :, :] < 0] = 0\n"
   ]
  },
  {
   "cell_type": "code",
   "execution_count": 138,
   "id": "c9cb08a1",
   "metadata": {},
   "outputs": [
    {
     "name": "stdout",
     "output_type": "stream",
     "text": [
      "[[0.00039398 0.00039398 0.0004073  ... 0.00039759 0.00039542 0.00039542]\n",
      " [0.00031991 0.00038629 0.0004073  ... 0.00038171 0.00043686 0.00053469]\n",
      " [0.00034418 0.00044011 0.00040369 ... 0.00038808 0.00035549 0.00051397]\n",
      " ...\n",
      " [0.00039434 0.00041211 0.0003878  ... 0.00038685 0.00038375 0.00038046]\n",
      " [0.00045443 0.00030801 0.00039489 ... 0.00033247 0.0003865  0.00038284]\n",
      " [0.00040069 0.00035866 0.00056521 ... 0.00038823 0.00041097 0.00036625]]\n"
     ]
    }
   ],
   "source": [
    "# Assume that we are forecasting the 'mole_fraction_of_carbon_dioxide_in_free_troposphere' variable\n",
    "\n",
    "target = data_np[:, target_var_index]\n",
    "print(target[0])"
   ]
  },
  {
   "cell_type": "code",
   "execution_count": 139,
   "id": "af372a6c",
   "metadata": {},
   "outputs": [
    {
     "name": "stdout",
     "output_type": "stream",
     "text": [
      "[[0.20080385]\n",
      " [0.20080385]\n",
      " [0.20759332]\n",
      " ...\n",
      " [0.300252  ]\n",
      " [0.26791108]\n",
      " [0.19743435]]\n"
     ]
    }
   ],
   "source": [
    "# Reshape for scaler\n",
    "target = target.reshape(-1, 1)\n",
    "\n",
    "# Normalize the target variable\n",
    "scaler = MinMaxScaler(feature_range=(0, 1))\n",
    "target_scaled = scaler.fit_transform(target)\n",
    "print(target_scaled)"
   ]
  },
  {
   "cell_type": "code",
   "execution_count": 140,
   "id": "6508f46d",
   "metadata": {
    "scrolled": true
   },
   "outputs": [
    {
     "name": "stdout",
     "output_type": "stream",
     "text": [
      "[[ 89.5  89.5  89.5 ...  89.5  89.5  89.5]\n",
      " [ 88.   88.   88.  ...  88.   88.   88. ]\n",
      " [ 86.   86.   86.  ...  86.   86.   86. ]\n",
      " ...\n",
      " [-56.  -56.  -56.  ... -56.  -56.  -56. ]\n",
      " [-58.  -58.  -58.  ... -58.  -58.  -58. ]\n",
      " [-60.  -60.  -60.  ... -60.  -60.  -60. ]]\n"
     ]
    }
   ],
   "source": [
    "# Return scaled data to original form\n",
    "transformed_data = np.copy(data_np)\n",
    "target_scaled_reshaped = target_scaled.reshape(data_np.shape[0], data_np.shape[2], data_np.shape[3])\n",
    "transformed_data[:, target_var_index, :, :] = target_scaled_reshaped\n",
    "print(transformed_data[0][0])"
   ]
  },
  {
   "cell_type": "code",
   "execution_count": 141,
   "id": "9623b56f",
   "metadata": {},
   "outputs": [],
   "source": [
    "# Define your longitude and latitude boundaries\n",
    "lon_min, lon_max = 35, 85\n",
    "lat_min, lat_max = 52, 65"
   ]
  },
  {
   "cell_type": "code",
   "execution_count": 142,
   "id": "2d6a1284",
   "metadata": {},
   "outputs": [
    {
     "name": "stdout",
     "output_type": "stream",
     "text": [
      "147\n"
     ]
    }
   ],
   "source": [
    "from scipy import stats as st\n",
    "# Combine latitudes and longitudes to 2D coordinates\n",
    "coordinates = np.column_stack((latitudes.flatten(), longitudes.flatten()))\n",
    "\n",
    "# Define the region boundaries\n",
    "region = np.array([[lat_min, lon_min], [lat_max, lon_max]])\n",
    "\n",
    "# Get the coordinates that fall within the region\n",
    "region_mask = (coordinates[:, 0] >= region[0, 0]) & (coordinates[:, 0] <= region[1, 0]) & \\\n",
    "              (coordinates[:, 1] >= region[0, 1]) & (coordinates[:, 1] <= region[1, 1])\n",
    "\n",
    "# Get the indices of these coordinates\n",
    "region_indices = np.nonzero(region_mask)\n",
    "\n",
    "# Reshape indices to the shape of latitude/longitude arrays\n",
    "region_indices_reshaped = np.unravel_index(region_indices, latitudes.shape)\n",
    "\n",
    "# Slice the data using these indices\n",
    "transformed_data_sliced = transformed_data[:, target_var_index, region_indices_reshaped[0], region_indices_reshaped[1]]\n",
    "# transformed_test_data_sliced = transformed_test_data[:, target_var_index, region_indices_reshaped[0], region_indices_reshaped[1]]\n",
    "print(transformed_data_sliced[0].size)\n"
   ]
  },
  {
   "cell_type": "code",
   "execution_count": 143,
   "id": "ad09cebc",
   "metadata": {
    "scrolled": true
   },
   "outputs": [],
   "source": [
    "data = []\n",
    "for i in transformed_data_sliced:\n",
    "    buf = i.flatten()\n",
    "    data.append(buf)\n",
    "data = np.array(data)\n",
    "data = data.reshape(1646, 7, 21)"
   ]
  },
  {
   "cell_type": "markdown",
   "id": "5e6bf782",
   "metadata": {},
   "source": [
    "# NN"
   ]
  },
  {
   "cell_type": "code",
   "execution_count": 144,
   "id": "7af53c98",
   "metadata": {},
   "outputs": [],
   "source": [
    "import torch"
   ]
  },
  {
   "cell_type": "code",
   "execution_count": 18,
   "id": "94efbeae",
   "metadata": {},
   "outputs": [],
   "source": [
    "SHAPE = (1646, 7, 21)\n",
    "N = SHAPE[0]"
   ]
  },
  {
   "cell_type": "code",
   "execution_count": 19,
   "id": "05a501e1",
   "metadata": {},
   "outputs": [],
   "source": [
    "X = []\n",
    "Y = []\n",
    "\n",
    "for i in range(0, len(data)-7):\n",
    "  X.append(data[i:i+7])\n",
    "  Y.append(data[i+7:(i+1)+7])"
   ]
  },
  {
   "cell_type": "code",
   "execution_count": 20,
   "id": "5641f97d",
   "metadata": {},
   "outputs": [
    {
     "name": "stdout",
     "output_type": "stream",
     "text": [
      "(7, 7, 21)\n",
      "(1, 7, 21)\n"
     ]
    }
   ],
   "source": [
    "print(X[0].shape)\n",
    "print(Y[0].shape)"
   ]
  },
  {
   "cell_type": "code",
   "execution_count": 21,
   "id": "a5f3dbd9",
   "metadata": {},
   "outputs": [
    {
     "name": "stdout",
     "output_type": "stream",
     "text": [
      "1316 323\n"
     ]
    }
   ],
   "source": [
    "X_train, Y_train = X[:int(0.8*N)], Y[:int(0.8*N)]\n",
    "X_test, Y_test = X[int(0.8*N):], Y[int(0.8*N):]\n",
    "\n",
    "print(len(X_train), len(X_test))\n"
   ]
  },
  {
   "cell_type": "code",
   "execution_count": 26,
   "id": "6cedbcac",
   "metadata": {},
   "outputs": [
    {
     "name": "stdout",
     "output_type": "stream",
     "text": [
      "torch.Size([1646, 147])\n"
     ]
    }
   ],
   "source": [
    "# Создание линейного преобразования\n",
    "# Первый аргумент - это размерность входных данных\n",
    "# Второй аргумент - это размерность выходных данных\n",
    "linear = torch.nn.Linear(21*7, 21*7)\n",
    "data_tensor = torch.tensor(data).float()\n",
    "# Функция для выпрямления матрицы, нужно указать номер оси, начиная с которой нужно начать выпрямление\n",
    "data_tensor = data_tensor.flatten(1)\n",
    "print(data_tensor.shape)"
   ]
  },
  {
   "cell_type": "code",
   "execution_count": 27,
   "id": "bafd2189",
   "metadata": {},
   "outputs": [
    {
     "data": {
      "text/plain": [
       "torch.Size([1646, 147])"
      ]
     },
     "execution_count": 27,
     "metadata": {},
     "output_type": "execute_result"
    }
   ],
   "source": [
    "result = linear(data_tensor)\n",
    "result.shape"
   ]
  },
  {
   "cell_type": "code",
   "execution_count": 28,
   "id": "6aa9ddf8",
   "metadata": {},
   "outputs": [
    {
     "name": "stdout",
     "output_type": "stream",
     "text": [
      "torch.Size([1646, 147])\n"
     ]
    }
   ],
   "source": [
    "# Перевод данных в тензор типа float\n",
    "data_tensor = torch.tensor(data).float()\n",
    "data_tensor = data_tensor.flatten(1)\n",
    "print(data_tensor.shape)"
   ]
  },
  {
   "cell_type": "code",
   "execution_count": 208,
   "id": "dc59bedc",
   "metadata": {},
   "outputs": [],
   "source": [
    "# Многослойный перцептрон\n",
    "model = torch.nn.Sequential(\n",
    "          torch.nn.Linear(21*7, 512),\n",
    "          torch.nn.LeakyReLU(0.1),\n",
    "          torch.nn.Linear(512, 256),\n",
    "          torch.nn.LeakyReLU(0.1),\n",
    "          torch.nn.Linear(256, 21*7)\n",
    "        )"
   ]
  },
  {
   "cell_type": "code",
   "execution_count": 209,
   "id": "a7630240",
   "metadata": {},
   "outputs": [],
   "source": [
    "# Функции активации: https://pytorch.org/docs/stable/nn.html#non-linear-activations-weighted-sum-nonlinearity\n",
    "loss_func = torch.nn.MSELoss()"
   ]
  },
  {
   "cell_type": "code",
   "execution_count": 210,
   "id": "984411c2",
   "metadata": {},
   "outputs": [],
   "source": [
    "# https://pytorch.org/docs/stable/generated/torch.optim.SGD.html#torch.optim.SGD\n",
    "optimizer = torch.optim.Adam(model.parameters(), lr=0.00001)"
   ]
  },
  {
   "cell_type": "code",
   "execution_count": 211,
   "id": "7d2743dd",
   "metadata": {},
   "outputs": [
    {
     "name": "stdout",
     "output_type": "stream",
     "text": [
      "0.00679793791789887 0.0005813360792417702\n",
      "0.0013600228062677297 0.0030211944304304734\n",
      "0.0027562598610485446 0.0018749089860626267\n",
      "0.0022963839037070336 0.0009657831635753593\n",
      "0.0020342769524240713 0.0017577506446825924\n",
      "0.001657458379046247 0.0013129442670498622\n",
      "0.001379001851285253 0.0012620946984755097\n",
      "0.00402654070880598 0.004830413713122755\n",
      "0.005687388618006782 0.006778152169812595\n",
      "0.003873140677472854 0.002028962457835629\n"
     ]
    }
   ],
   "source": [
    "for epoch in range(10):\n",
    "  epoch_loss_train = 0.\n",
    "  epoch_loss_test = 0.\n",
    "\n",
    "  # Обучение\n",
    "  for x, y in zip(X_train, Y_train):\n",
    "\n",
    "    # Переводим данные в тензор\n",
    "    # и переводим их на память текущего устройства\n",
    "    x = torch.tensor(x).float()\n",
    "    y = torch.tensor(y).float()\n",
    "\n",
    "    # Выпрямляем матрицу в вектор\n",
    "    x = x.flatten(1)\n",
    "    y = y.flatten(1)\n",
    "    \n",
    "    # Делаем предсказание\n",
    "    y_pred = model(x)\n",
    "\n",
    "    # Считаем ошибку с помощью функции потерь\n",
    "    loss_value = loss_func(y_pred, y)\n",
    "\n",
    "    # Считаем градиент функции потерь\n",
    "    loss_value.backward()\n",
    "\n",
    "    # Обновление весов модели\n",
    "    optimizer.step()\n",
    "\n",
    "    # Сохраняем значение ошибки на данном проходе\n",
    "    epoch_loss_train += loss_value.item()\n",
    "  \n",
    "  # Валидация\n",
    "  for x, y in zip(X_test, Y_test):\n",
    "\n",
    "    # Переводим данные в тензор\n",
    "    x = torch.tensor(x).float()\n",
    "    y = torch.tensor(y).float()\n",
    "\n",
    "    # Выпрямляем матрицу в вектор\n",
    "    x = x.flatten(1)\n",
    "    y = y.flatten(1)\n",
    "    \n",
    "    # Делаем предсказание\n",
    "    y_pred = model(x)\n",
    "\n",
    "    # Считаем ошибку с помощью функции потерь\n",
    "    loss_value = loss_func(y_pred, y)\n",
    "\n",
    "    # Сохраняем значение ошибки на данном проходе\n",
    "    epoch_loss_test += loss_value.item()\n",
    "\n",
    "  # Выводим средние значение ошибки\n",
    "  print(epoch_loss_train/len(X_train), epoch_loss_test/len(X_test))"
   ]
  },
  {
   "cell_type": "code",
   "execution_count": 212,
   "id": "4e5aa0ac",
   "metadata": {},
   "outputs": [
    {
     "name": "stdout",
     "output_type": "stream",
     "text": [
      "torch.Size([7, 1, 7, 21])\n",
      "torch.Size([7, 147])\n",
      "torch.Size([7, 147])\n",
      "torch.Size([13, 147])\n",
      "torch.Size([25, 147])\n",
      "torch.Size([49, 147])\n"
     ]
    }
   ],
   "source": [
    "# Изначальные данные\n",
    "data_7 = torch.tensor(data[-7:]).float()\n",
    "print(data_7.shape)\n",
    "print(data_7.flatten(1).shape)\n",
    "# Сколько дней нужно предсказать\n",
    "days_to_predict = 4\n",
    "\n",
    "result = []\n",
    "\n",
    "for i in range(days_to_predict):\n",
    "\n",
    "  # Выпрямляем матрицу в вектор\n",
    "  data_7 = data_7.flatten(1)\n",
    "\n",
    "  # Предсказываем следующий день\n",
    "  next_day = model(data_7)\n",
    "  print(next_day.shape)\n",
    "  # Добавляем следующий день в батч\n",
    "  data_7 = torch.concat([data_7[1:], next_day])\n",
    "  \n",
    "  # Сохраняем результат\n",
    "  result.append(next_day)"
   ]
  },
  {
   "cell_type": "code",
   "execution_count": 213,
   "id": "103ed69c",
   "metadata": {},
   "outputs": [
    {
     "name": "stdout",
     "output_type": "stream",
     "text": [
      "7\n"
     ]
    }
   ],
   "source": [
    "print(len(result[0]))"
   ]
  },
  {
   "cell_type": "code",
   "execution_count": 214,
   "id": "f6cff535",
   "metadata": {},
   "outputs": [
    {
     "name": "stdout",
     "output_type": "stream",
     "text": [
      "7\n"
     ]
    }
   ],
   "source": [
    "\n",
    "numpy_array = [tensor.detach().numpy() for tensor in result]\n",
    "\n",
    "\n",
    "final_array = np.array(numpy_array[0])\n",
    "\n",
    "print(len(final_array))"
   ]
  },
  {
   "cell_type": "code",
   "execution_count": 215,
   "id": "968b4513",
   "metadata": {},
   "outputs": [
    {
     "name": "stdout",
     "output_type": "stream",
     "text": [
      "1\n",
      "[[[[0.20616247 0.20537497 0.2044866  ... 0.20883684 0.20900011\n",
      "    0.21490154]\n",
      "   [0.20878609 0.20388019 0.20901419 ... 0.16719031 0.20937404\n",
      "    0.20501629]\n",
      "   [0.20563771 0.20757483 0.20771529 ... 0.21296015 0.2032533\n",
      "    0.20770086]\n",
      "   ...\n",
      "   [0.20637508 0.20358433 0.20551322 ... 0.19963066 0.20353687\n",
      "    0.20869485]\n",
      "   [0.20695454 0.2066447  0.20446397 ... 0.2016585  0.20351656\n",
      "    0.20690887]\n",
      "   [0.20310241 0.2066768  0.20552085 ... 0.20067278 0.2055786\n",
      "    0.20766726]]]\n",
      "\n",
      "\n",
      " [[[0.20714673 0.20482445 0.2046065  ... 0.205325   0.2077553\n",
      "    0.2056967 ]\n",
      "   [0.20913394 0.20381875 0.20781416 ... 0.16302826 0.20900206\n",
      "    0.20192915]\n",
      "   [0.20582157 0.20789517 0.20772725 ... 0.21023616 0.20412701\n",
      "    0.20764996]\n",
      "   ...\n",
      "   [0.20622447 0.20345502 0.20513758 ... 0.1997246  0.20414309\n",
      "    0.20913695]\n",
      "   [0.20718694 0.20916149 0.20396154 ... 0.20070337 0.20349793\n",
      "    0.2071467 ]\n",
      "   [0.20221403 0.20653051 0.20369264 ... 0.19840217 0.20599964\n",
      "    0.20731975]]]\n",
      "\n",
      "\n",
      " [[[0.20813099 0.20427392 0.2047264  ... 0.20181319 0.20540299\n",
      "    0.20645878]\n",
      "   [0.20948179 0.20375735 0.20661412 ... 0.1588662  0.20863008\n",
      "    0.20004334]\n",
      "   [0.20600542 0.20821553 0.20773925 ... 0.20751217 0.20500073\n",
      "    0.20759907]\n",
      "   ...\n",
      "   [0.20607387 0.20332572 0.20476195 ... 0.19981855 0.2047493\n",
      "    0.20957905]\n",
      "   [0.20741935 0.2116783  0.20345908 ... 0.19974823 0.20347932\n",
      "    0.20738453]\n",
      "   [0.20132564 0.20638424 0.20186442 ... 0.19613153 0.20642072\n",
      "    0.20697224]]]\n",
      "\n",
      "\n",
      " ...\n",
      "\n",
      "\n",
      " [[[0.21009949 0.20317289 0.20496622 ... 0.19478954 0.20069839\n",
      "    0.20798291]\n",
      "   [0.21017748 0.2036345  0.20421407 ... 0.1505421  0.20788611\n",
      "    0.20137665]\n",
      "   [0.20637317 0.20885625 0.2077632  ... 0.2020642  0.20674817\n",
      "    0.20749731]\n",
      "   ...\n",
      "   [0.20577267 0.2030671  0.2040107  ... 0.20542198 0.20596173\n",
      "    0.21046324]\n",
      "   [0.20788415 0.2167119  0.2024542  ... 0.19783795 0.2034421\n",
      "    0.20786017]\n",
      "   [0.19954887 0.20609167 0.19820799 ... 0.20185898 0.20726281\n",
      "    0.20627722]]]\n",
      "\n",
      "\n",
      " [[[0.21108374 0.20262237 0.20508611 ... 0.2012277  0.1983461\n",
      "    0.208745  ]\n",
      "   [0.21052533 0.20357308 0.20301402 ... 0.14638004 0.20751414\n",
      "    0.20300151]\n",
      "   [0.20655704 0.20917661 0.20777519 ... 0.20420931 0.20762189\n",
      "    0.20744641]\n",
      "   ...\n",
      "   [0.20562205 0.20293778 0.20363505 ... 0.20822369 0.20656794\n",
      "    0.21090534]\n",
      "   [0.20811655 0.21922868 0.20195176 ... 0.19688281 0.20342349\n",
      "    0.208098  ]\n",
      "   [0.19866048 0.20594539 0.19637978 ... 0.2047227  0.20768389\n",
      "    0.20460139]]]\n",
      "\n",
      "\n",
      " [[[0.212068   0.20207185 0.20520602 ... 0.20766585 0.1959938\n",
      "    0.20950708]\n",
      "   [0.21087319 0.20351166 0.201814   ... 0.142218   0.20714214\n",
      "    0.20462638]\n",
      "   [0.2067409  0.20949697 0.20778717 ... 0.20635444 0.2084956\n",
      "    0.20739552]\n",
      "   ...\n",
      "   [0.20547144 0.20280848 0.20325942 ... 0.2110254  0.20717415\n",
      "    0.21134743]\n",
      "   [0.20834894 0.2217455  0.2014493  ... 0.19592768 0.20340487\n",
      "    0.20833583]\n",
      "   [0.19777209 0.2057991  0.19455156 ... 0.20758642 0.20810494\n",
      "    0.20398748]]]]\n"
     ]
    }
   ],
   "source": [
    "print(len(data[-7:][0]))\n",
    "print(data[-7:])"
   ]
  },
  {
   "cell_type": "code",
   "execution_count": 41,
   "id": "ca625612",
   "metadata": {},
   "outputs": [
    {
     "name": "stdout",
     "output_type": "stream",
     "text": [
      "(90, 143)\n",
      "[[0.33829466 0.60861641 0.453209   0.5825506  0.68799691 0.29246786\n",
      "  0.83791748 0.77554428 0.8176201  0.88978317 0.39913283 0.29985204\n",
      "  0.82356746 0.90048157 0.17372938 0.50727019 0.81063904 0.86252555\n",
      "  0.73871306 0.65483553 0.49554968]\n",
      " [0.82780532 0.51031253 0.19396691 0.26220893 0.53102424 0.14265822\n",
      "  0.5454396  0.06121592 0.66475638 0.24227794 0.87871449 0.67358963\n",
      "  0.4285232  0.04953412 0.68949508 0.0728156  0.25826479 0.12957636\n",
      "  0.39458823 0.52786263 0.61938659]\n",
      " [0.24810853 0.29357405 0.3510494  0.08104208 0.98749478 0.87860775\n",
      "  0.00082717 0.36888234 0.90700246 0.25921771 0.37901973 0.13416788\n",
      "  0.38040004 0.47297134 0.49144078 0.57575509 0.26074925 0.81502603\n",
      "  0.46601423 0.72177854 0.89581572]\n",
      " [0.13888612 0.6303976  0.17519924 0.84796203 0.98634649 0.2374088\n",
      "  0.21035969 0.91030294 0.19586904 0.96176359 0.79811789 0.12713434\n",
      "  0.6401857  0.26498064 0.35241922 0.48460396 0.98746136 0.45741827\n",
      "  0.80786082 0.94893025 0.25648676]\n",
      " [0.87802448 0.58705593 0.67131361 0.15194577 0.66136614 0.727132\n",
      "  0.25699254 0.60936911 0.01902458 0.574474   0.10434601 0.69515248\n",
      "  0.94433422 0.3682241  0.0526118  0.75801207 0.26602513 0.74039634\n",
      "  0.64504774 0.02182476 0.17634205]\n",
      " [0.56486786 0.25782029 0.94225519 0.12519635 0.17163833 0.06455107\n",
      "  0.64128135 0.93201293 0.87865123 0.30812683 0.13220086 0.43679333\n",
      "  0.73809875 0.49407198 0.08017454 0.38790773 0.31590471 0.76409903\n",
      "  0.13612561 0.52861962 0.7345382 ]\n",
      " [0.96639943 0.56217825 0.27035578 0.44055639 0.69628965 0.43223951\n",
      "  0.76859762 0.38952841 0.84245432 0.83857236 0.05333063 0.55153983\n",
      "  0.1720741  0.7734948  0.59515738 0.56672805 0.29810363 0.91099368\n",
      "  0.07755172 0.84588923 0.56134389]]\n"
     ]
    }
   ],
   "source": [
    "# Создание первого массива (размером 90x143) с пустыми значениями\n",
    "array1 = np.empty((90, 143))\n",
    "\n",
    "# Создание второго массива (размером 7x21)\n",
    "array2 = np.random.random((7, 21))\n",
    "\n",
    "# Определение позиций для вставки второго массива\n",
    "start_row = 13\n",
    "end_row = start_row + array2.shape[0]\n",
    "start_col = 86\n",
    "end_col = start_col + array2.shape[1]\n",
    "\n",
    "# Вставка второго массива в первый\n",
    "array1[start_row:end_row, start_col:end_col] = array2\n",
    "\n",
    "# Проверка результата\n",
    "print(array1.shape)  # Размер первого массива\n",
    "print(array1[13:20, 86:107])  # Вывод области, в которую был вставлен второй массив"
   ]
  },
  {
   "cell_type": "markdown",
   "id": "fe3a7009",
   "metadata": {},
   "source": [
    "# CNN"
   ]
  },
  {
   "cell_type": "code",
   "execution_count": 443,
   "id": "87448caa",
   "metadata": {},
   "outputs": [],
   "source": [
    "device = torch.device('cuda' if torch.cuda.is_available() else 'cpu')"
   ]
  },
  {
   "cell_type": "code",
   "execution_count": 452,
   "id": "3c9ca0c8",
   "metadata": {},
   "outputs": [],
   "source": [
    "# Двухслойная свёрточная сеть\n",
    "model = torch.nn.Sequential(\n",
    "          torch.nn.Conv2d(in_channels=1, out_channels=1,\n",
    "                       kernel_size=(2,2), stride=1),\n",
    "          torch.nn.Conv2d(in_channels=1, out_channels=1,\n",
    "                       kernel_size=(3, 3), stride=1),\n",
    "          torch.nn.Flatten(start_dim=1),\n",
    "          torch.nn.Linear(72, 21*7)\n",
    "        ).to(device)"
   ]
  },
  {
   "cell_type": "code",
   "execution_count": 453,
   "id": "0504c5d0",
   "metadata": {},
   "outputs": [
    {
     "data": {
      "text/plain": [
       "(1646, 1, 7, 21)"
      ]
     },
     "execution_count": 453,
     "metadata": {},
     "output_type": "execute_result"
    }
   ],
   "source": [
    "data_o = data\n",
    "data = data.squeeze()\n",
    "data = np.expand_dims(data, 1)\n",
    "N = data.shape[0]\n",
    "data.shape"
   ]
  },
  {
   "cell_type": "code",
   "execution_count": 454,
   "id": "0eb213e1",
   "metadata": {},
   "outputs": [
    {
     "name": "stdout",
     "output_type": "stream",
     "text": [
      "(1645, 1, 7, 21) (1645, 1, 7, 21)\n"
     ]
    }
   ],
   "source": [
    "X = []\n",
    "Y = []\n",
    "\n",
    "for i in range(0, N-1):\n",
    "  X.append(data[i])\n",
    "  Y.append(data[i+1])\n",
    "\n",
    "X = np.array(X)\n",
    "Y = np.array(Y)\n",
    "\n",
    "print(X.shape, Y.shape)"
   ]
  },
  {
   "cell_type": "code",
   "execution_count": 455,
   "id": "4f115e2e",
   "metadata": {},
   "outputs": [
    {
     "name": "stdout",
     "output_type": "stream",
     "text": [
      "1316 329\n"
     ]
    }
   ],
   "source": [
    "# Разбиваем на test train\n",
    "X_train, Y_train = X[:int(0.8*N)], Y[:int(0.8*N)]\n",
    "X_test, Y_test = X[int(0.8*N):], Y[int(0.8*N):]\n",
    "\n",
    "print(len(X_train), len(X_test))"
   ]
  },
  {
   "cell_type": "code",
   "execution_count": 456,
   "id": "b137663a",
   "metadata": {},
   "outputs": [],
   "source": [
    "# создание загрузчика данных\n",
    "train_dataloader = torch.utils.data.DataLoader(list(zip(X_train, Y_train)), batch_size=16)\n",
    "test_dataloader = torch.utils.data.DataLoader(list(zip(X_test, Y_test)), batch_size=16)"
   ]
  },
  {
   "cell_type": "code",
   "execution_count": 457,
   "id": "f4ea6410",
   "metadata": {},
   "outputs": [
    {
     "data": {
      "text/plain": [
       "torch.Size([16, 1, 7, 21])"
      ]
     },
     "execution_count": 457,
     "metadata": {},
     "output_type": "execute_result"
    }
   ],
   "source": [
    "for x, y in train_dataloader:\n",
    "  break\n",
    "x.shape"
   ]
  },
  {
   "cell_type": "code",
   "execution_count": 458,
   "id": "1bbd42ed",
   "metadata": {},
   "outputs": [
    {
     "data": {
      "text/plain": [
       "torch.Size([16, 1, 7, 21])"
      ]
     },
     "execution_count": 458,
     "metadata": {},
     "output_type": "execute_result"
    }
   ],
   "source": [
    "y.shape"
   ]
  },
  {
   "cell_type": "code",
   "execution_count": 464,
   "id": "9fea6416",
   "metadata": {},
   "outputs": [
    {
     "name": "stdout",
     "output_type": "stream",
     "text": [
      "0.005102121944438262 0.0049243260485430556\n",
      "0.0050310135190655665 0.004837448420446543\n",
      "0.004991625906922013 0.004792617500892707\n",
      "0.004968237838741526 0.00476410412894828\n",
      "0.004971184206744993 0.004782566556795722\n",
      "0.005023531812097293 0.004857610622864394\n",
      "0.005117665751870856 0.0049684060560095875\n",
      "0.005221330942249441 0.005072594553764377\n",
      "0.005296763077557805 0.005136189450110708\n",
      "0.005323337637875454 0.005141117122201692\n"
     ]
    }
   ],
   "source": [
    "# Функции активации: https://pytorch.org/docs/stable/nn.html#non-linear-activations-weighted-sum-nonlinearity\n",
    "loss_func = torch.nn.MSELoss()\n",
    "# https://pytorch.org/docs/stable/generated/torch.optim.SGD.html#torch.optim.SGD\n",
    "optimizer = torch.optim.Adam(model.parameters(), lr=0.00001)\n",
    "\n",
    "for epoch in range(10):\n",
    "  epoch_loss_train = 0.\n",
    "  epoch_loss_test = 0.\n",
    "\n",
    "  # Обучение\n",
    "  for x, y in train_dataloader:\n",
    "\n",
    "    # Переводим данные на память текущего устройства\n",
    "    x = x.to(device)\n",
    "    y = y.to(device)\n",
    "    \n",
    "    # Делаем предсказание\n",
    "    y_pred = model(x)\n",
    "    \n",
    "    # Считаем ошибку с помощью функции потерь\n",
    "    loss_value = loss_func(y_pred, y.flatten(1))\n",
    "\n",
    "    # Считаем градиент функции потерь\n",
    "    loss_value.backward()\n",
    "\n",
    "    # Обновление весов модели\n",
    "    optimizer.step()\n",
    "\n",
    "    # Сохраняем значение ошибки на данном проходе\n",
    "    epoch_loss_train += loss_value.item()\n",
    "  \n",
    "  # Валидация\n",
    "  for x, y in test_dataloader:\n",
    "\n",
    "    # Переводим данные в тензор\n",
    "    x = x.to(device)\n",
    "    y = y.to(device)\n",
    "    \n",
    "    # Делаем предсказание\n",
    "    y_pred = model(x)\n",
    "\n",
    "    # Считаем ошибку с помощью функции потерь\n",
    "    loss_value = loss_func(y_pred, y.flatten(1))\n",
    "\n",
    "    # Сохраняем значение ошибки на данном проходе\n",
    "    epoch_loss_test += loss_value.item()\n",
    "\n",
    "  # Выводим средние значение ошибки\n",
    "  print(epoch_loss_train/len(train_dataloader), epoch_loss_test/len(test_dataloader))"
   ]
  },
  {
   "cell_type": "code",
   "execution_count": 506,
   "id": "5d174d04",
   "metadata": {},
   "outputs": [
    {
     "name": "stdout",
     "output_type": "stream",
     "text": [
      "tensor([[[[0.2580, 0.2262, 0.2799, 0.1872, 0.2180, 0.2153, 0.1503, 0.2783,\n",
      "           0.2787, 0.1900, 0.2055, 0.1522, 0.1664, 0.3147, 0.3079, 0.3485,\n",
      "           0.1496, 0.2956, 0.1723, 0.1542, 0.2580],\n",
      "          [0.1073, 0.2863, 0.1606, 0.1885, 0.1974, 0.3161, 0.3346, 0.1556,\n",
      "           0.2136, 0.1698, 0.2918, 0.3246, 0.2143, 0.2161, 0.1424, 0.3170,\n",
      "           0.2209, 0.1694, 0.3221, 0.2993, 0.2390],\n",
      "          [0.3545, 0.1622, 0.1930, 0.2079, 0.3415, 0.1288, 0.1293, 0.1958,\n",
      "           0.1186, 0.1274, 0.3485, 0.1932, 0.1835, 0.1580, 0.3602, 0.2109,\n",
      "           0.3477, 0.1658, 0.2502, 0.2091, 0.1776],\n",
      "          [0.2880, 0.1371, 0.2832, 0.2488, 0.1405, 0.2712, 0.2750, 0.2979,\n",
      "           0.3105, 0.1894, 0.2165, 0.1934, 0.1425, 0.1395, 0.2337, 0.2906,\n",
      "           0.2756, 0.2160, 0.3017, 0.2375, 0.2707],\n",
      "          [0.3077, 0.1643, 0.1413, 0.2424, 0.2923, 0.1079, 0.1461, 0.1535,\n",
      "           0.1745, 0.3790, 0.3587, 0.3467, 0.0917, 0.3737, 0.1080, 0.2586,\n",
      "           0.2285, 0.2902, 0.3520, 0.1737, 0.2416],\n",
      "          [0.1985, 0.2996, 0.2524, 0.2706, 0.1948, 0.1742, 0.3199, 0.1579,\n",
      "           0.3185, 0.2965, 0.2697, 0.1453, 0.1359, 0.2177, 0.2401, 0.3549,\n",
      "           0.2266, 0.3310, 0.0639, 0.2537, 0.1671],\n",
      "          [0.2881, 0.1226, 0.2029, 0.2211, 0.1687, 0.2246, 0.1431, 0.1943,\n",
      "           0.2166, 0.1583, 0.1596, 0.1923, 0.2958, 0.2280, 0.2664, 0.1606,\n",
      "           0.1583, 0.3105, 0.3477, 0.2106, 0.1747]]]],\n",
      "       grad_fn=<ReshapeAliasBackward0>)\n"
     ]
    }
   ],
   "source": [
    "# buf = torch.tensor(data[-2]).float()\n",
    "# print(data[-2])\n",
    "# a = model(buf)\n",
    "# a.reshape(7, 21)\n",
    "# data[-1].shape\n",
    "# res = []\n",
    "\n",
    "buf = torch.tensor(data[-1]).float()\n",
    "days_to_predict = 5\n",
    "\n",
    "for i in range(days_to_predict):\n",
    "    buf = model(buf).reshape(1, 1, 7, 21)\n",
    "    res.append(buf)\n",
    "print(res[-1])\n",
    "    \n",
    "    \n",
    "                                                                                                                                                                                                                                                                                                                                                                                                                                                                                                                                                                                                                                                                                                                                                                            "
   ]
  },
  {
   "cell_type": "markdown",
   "id": "61de838e",
   "metadata": {},
   "source": [
    "# Prediction"
   ]
  },
  {
   "cell_type": "code",
   "execution_count": 198,
   "id": "aeda300c",
   "metadata": {},
   "outputs": [
    {
     "data": {
      "text/plain": [
       "array([[ 0.31752813,  0.24615242,  0.25093657,  0.23966391,  0.3456794 ,\n",
       "         0.28015164,  0.32528874,  0.31215668,  0.36042833,  0.389701  ,\n",
       "         0.36048496,  0.27494496,  0.1386469 ,  0.2596536 ,  0.30884382,\n",
       "         0.3442869 ,  0.33479974,  0.37086487,  0.37928447,  0.29257414,\n",
       "         0.2801813 ],\n",
       "       [ 0.32451218,  0.26315787,  0.24791202,  0.3313803 ,  0.25262773,\n",
       "         0.20685118,  0.31439865,  0.38392946,  0.28234187,  0.2778359 ,\n",
       "         0.31320122,  0.31449953,  0.32528436,  0.26105103,  0.26645666,\n",
       "         0.3603759 ,  0.2837448 ,  0.3913293 ,  0.27408645,  0.3791176 ,\n",
       "         0.31347352],\n",
       "       [ 0.33394945,  0.39477068,  0.39306843,  0.32958505,  0.32047957,\n",
       "         0.2603019 ,  0.34593076,  0.38996845,  0.255     ,  0.27426165,\n",
       "         0.26140666,  0.27602744,  0.38579813,  0.37264824,  0.23289046,\n",
       "         0.3092758 ,  0.33542863,  0.26199004,  0.32615224,  0.3325632 ,\n",
       "         0.3842612 ],\n",
       "       [ 0.2343913 ,  0.3599643 ,  0.33356833, -0.10455978,  0.34186915,\n",
       "         0.18724582,  0.3568675 ,  0.3074925 ,  0.26960713,  0.3497314 ,\n",
       "         0.35194778,  0.37819815,  0.33083186,  0.36171392,  0.35584888,\n",
       "         0.3482142 ,  0.31455436,  0.32616025,  0.13025592,  0.25193995,\n",
       "         0.33566824],\n",
       "       [ 0.39543203,  0.27809033,  0.35617942,  0.30989477,  0.05970603,\n",
       "         0.33664918,  0.23939092,  0.30032575,  0.34768355,  0.3901808 ,\n",
       "         0.2498961 ,  0.38450345,  0.39102042,  0.40820876,  0.3368854 ,\n",
       "         0.4042837 ,  0.3309201 ,  0.16011792,  0.29536656,  0.27316597,\n",
       "         0.34044704],\n",
       "       [ 0.3721963 ,  0.40605807,  0.2502439 ,  0.27412117,  0.2504785 ,\n",
       "         0.35677534,  0.3400457 ,  0.30998906,  0.30307257,  0.3391181 ,\n",
       "         0.28232926,  0.3104552 ,  0.3945055 ,  0.34791034,  0.34020805,\n",
       "         0.332303  ,  0.25680757,  0.3565693 ,  0.28594667,  0.34927696,\n",
       "         0.26270872],\n",
       "       [ 0.22624856,  0.24297391,  0.13603354,  0.38955   ,  0.1578    ,\n",
       "         0.3357971 ,  0.2303316 ,  0.24910177,  0.284549  ,  0.25029093,\n",
       "         0.35569108,  0.233671  ,  0.37601072,  0.38942504,  0.2325126 ,\n",
       "         0.3693794 ,  0.28524894,  0.35936606,  0.22716586,  0.08516308,\n",
       "         0.348697  ]], dtype=float32)"
      ]
     },
     "execution_count": 198,
     "metadata": {},
     "output_type": "execute_result"
    }
   ],
   "source": [
    "pr_array = [tensor.detach().numpy() for tensor in a]\n",
    "pr_array = pr_array[0].reshape(7, 21)\n",
    "pr_array"
   ]
  },
  {
   "cell_type": "code",
   "execution_count": 199,
   "id": "7309f866",
   "metadata": {},
   "outputs": [
    {
     "data": {
      "text/plain": [
       "array([[ 0.00062299,  0.00048295,  0.00049234,  0.00047022,  0.00067823,\n",
       "         0.00054966,  0.00063822,  0.00061246,  0.00070717,  0.0007646 ,\n",
       "         0.00070728,  0.00053945,  0.00027203,  0.00050944,  0.00060596,\n",
       "         0.0006755 ,  0.00065688,  0.00072764,  0.00074416,  0.00057403,\n",
       "         0.00054972],\n",
       "       [ 0.0006367 ,  0.00051632,  0.00048641,  0.00065017,  0.00049566,\n",
       "         0.00040585,  0.00061685,  0.00075328,  0.00055396,  0.00054512,\n",
       "         0.00061451,  0.00061705,  0.00063821,  0.00051219,  0.00052279,\n",
       "         0.00070706,  0.00055671,  0.00076779,  0.00053776,  0.00074383,\n",
       "         0.00061504],\n",
       "       [ 0.00065521,  0.00077455,  0.00077121,  0.00064665,  0.00062879,\n",
       "         0.00051072,  0.00067872,  0.00076512,  0.00050031,  0.00053811,\n",
       "         0.00051288,  0.00054157,  0.00075694,  0.00073114,  0.00045693,\n",
       "         0.0006068 ,  0.00065812,  0.00051403,  0.00063992,  0.00065249,\n",
       "         0.00075393],\n",
       "       [ 0.00045988,  0.00070626,  0.00065447, -0.00020515,  0.00067075,\n",
       "         0.00036738,  0.00070018,  0.0006033 ,  0.00052897,  0.00068618,\n",
       "         0.00069053,  0.00074203,  0.0006491 ,  0.00070969,  0.00069818,\n",
       "         0.0006832 ,  0.00061716,  0.00063993,  0.00025556,  0.00049431,\n",
       "         0.00065859],\n",
       "       [ 0.00077584,  0.00054562,  0.00069883,  0.00060802,  0.00011714,\n",
       "         0.00066051,  0.00046969,  0.00058924,  0.00068216,  0.00076554,\n",
       "         0.0004903 ,  0.0007544 ,  0.00076719,  0.00080091,  0.00066097,\n",
       "         0.00079321,  0.00064927,  0.00031415,  0.00057951,  0.00053596,\n",
       "         0.00066796],\n",
       "       [ 0.00073025,  0.00079669,  0.00049098,  0.00053783,  0.00049144,\n",
       "         0.0007    ,  0.00066717,  0.0006082 ,  0.00059463,  0.00066535,\n",
       "         0.00055393,  0.00060912,  0.00077403,  0.00068261,  0.00066749,\n",
       "         0.00065198,  0.00050386,  0.00069959,  0.00056103,  0.00068529,\n",
       "         0.00051544],\n",
       "       [ 0.0004439 ,  0.00047672,  0.0002669 ,  0.0007643 ,  0.00030961,\n",
       "         0.00065884,  0.00045191,  0.00048874,  0.00055829,  0.00049107,\n",
       "         0.00069787,  0.00045847,  0.00073774,  0.00076406,  0.00045619,\n",
       "         0.00072473,  0.00055966,  0.00070508,  0.0004457 ,  0.00016709,\n",
       "         0.00068415]], dtype=float32)"
      ]
     },
     "execution_count": 199,
     "metadata": {},
     "output_type": "execute_result"
    }
   ],
   "source": [
    "# Inverse transform to get the original values\n",
    "original_array = scaler.inverse_transform(pr_array.reshape(-1, 1))\n",
    "\n",
    "# Reshape the original array back to its original shape\n",
    "pr_array = np.reshape(original_array, pr_array.shape)\n",
    "pr_array\n"
   ]
  },
  {
   "cell_type": "code",
   "execution_count": 200,
   "id": "66daa356",
   "metadata": {
    "scrolled": true
   },
   "outputs": [
    {
     "name": "stdout",
     "output_type": "stream",
     "text": [
      "(91, 144)\n",
      "[[ 0.00062299  0.00048295  0.00049234  0.00047022  0.00067823  0.00054966\n",
      "   0.00063822  0.00061246  0.00070717  0.0007646   0.00070728  0.00053945\n",
      "   0.00027203  0.00050944  0.00060596  0.0006755   0.00065688  0.00072764\n",
      "   0.00074416  0.00057403  0.00054972]\n",
      " [ 0.0006367   0.00051632  0.00048641  0.00065017  0.00049566  0.00040585\n",
      "   0.00061685  0.00075328  0.00055396  0.00054512  0.00061451  0.00061705\n",
      "   0.00063821  0.00051219  0.00052279  0.00070706  0.00055671  0.00076779\n",
      "   0.00053776  0.00074383  0.00061504]\n",
      " [ 0.00065521  0.00077455  0.00077121  0.00064665  0.00062879  0.00051072\n",
      "   0.00067872  0.00076512  0.00050031  0.00053811  0.00051288  0.00054157\n",
      "   0.00075694  0.00073114  0.00045693  0.0006068   0.00065812  0.00051403\n",
      "   0.00063992  0.00065249  0.00075393]\n",
      " [ 0.00045988  0.00070626  0.00065447 -0.00020515  0.00067075  0.00036738\n",
      "   0.00070018  0.0006033   0.00052897  0.00068618  0.00069053  0.00074203\n",
      "   0.0006491   0.00070969  0.00069818  0.0006832   0.00061716  0.00063993\n",
      "   0.00025556  0.00049431  0.00065859]\n",
      " [ 0.00077584  0.00054562  0.00069883  0.00060802  0.00011714  0.00066051\n",
      "   0.00046969  0.00058924  0.00068216  0.00076554  0.0004903   0.0007544\n",
      "   0.00076719  0.00080091  0.00066097  0.00079321  0.00064927  0.00031415\n",
      "   0.00057951  0.00053596  0.00066796]\n",
      " [ 0.00073025  0.00079669  0.00049098  0.00053783  0.00049144  0.0007\n",
      "   0.00066717  0.0006082   0.00059463  0.00066535  0.00055393  0.00060912\n",
      "   0.00077403  0.00068261  0.00066749  0.00065198  0.00050386  0.00069959\n",
      "   0.00056103  0.00068529  0.00051544]\n",
      " [ 0.0004439   0.00047672  0.0002669   0.0007643   0.00030961  0.00065884\n",
      "   0.00045191  0.00048874  0.00055829  0.00049107  0.00069787  0.00045847\n",
      "   0.00073774  0.00076406  0.00045619  0.00072473  0.00055966  0.00070508\n",
      "   0.0004457   0.00016709  0.00068415]]\n"
     ]
    }
   ],
   "source": [
    "# Создание первого массива (размером 91x144) с пустыми значениями\n",
    "array1 = np.full((91, 144), np.nan)\n",
    "\n",
    "# Создание второго массива (размером 7x21)\n",
    "array2 = pr_array\n",
    "\n",
    "start_row = 12\n",
    "end_row = 19\n",
    "start_column = 86 \n",
    "end_column = 107\n",
    "\n",
    "array1[start_row:end_row, start_column:end_column] = array2\n",
    "print(array1.shape)\n",
    "print(array1[start_row:end_row, start_column:end_column].max)"
   ]
  },
  {
   "cell_type": "code",
   "execution_count": 201,
   "id": "0a82687a",
   "metadata": {},
   "outputs": [],
   "source": [
    "from pyhdf.SD import SD, SDC\n",
    "\n",
    "hdf_file = SD(r'C:\\Users\\idine\\Pred\\1.hdf', SDC.WRITE | SDC.CREATE)\n",
    "variable_index = 2  # Change this to the appropriate index or use variable name\n",
    "dataset = hdf_file.select(variable_index)\n",
    "your_array = np.array(array1, dtype=np.float32)\n",
    "dataset[:, :] = your_array\n",
    "hdf_file.end()"
   ]
  },
  {
   "cell_type": "code",
   "execution_count": 274,
   "id": "b6b7baf8",
   "metadata": {},
   "outputs": [
    {
     "data": {
      "text/plain": [
       "torch.Size([16, 1, 7, 21])"
      ]
     },
     "execution_count": 274,
     "metadata": {},
     "output_type": "execute_result"
    }
   ],
   "source": [
    "for x, y in train_dataloader:\n",
    "  break\n",
    "x.shape"
   ]
  },
  {
   "cell_type": "code",
   "execution_count": 336,
   "id": "c21b3bef",
   "metadata": {},
   "outputs": [],
   "source": [
    "# Двухслойная свёрточная сеть\n",
    "model2 = torch.nn.Sequential(\n",
    "          torch.nn.Conv2d(in_channels=1, out_channels=1,\n",
    "                       kernel_size=(4, 4), stride=1),\n",
    "          torch.nn.Conv2d(in_channels=1, out_channels=1,\n",
    "                       kernel_size=(2,2), stride=1),\n",
    "          torch.nn.Flatten(start_dim=1),\n",
    "          torch.nn.Linear(51, 64),\n",
    "          torch.nn.Linear(64, 21*7)\n",
    "        ).to(device)"
   ]
  },
  {
   "cell_type": "code",
   "execution_count": 337,
   "id": "35d74ab1",
   "metadata": {},
   "outputs": [
    {
     "name": "stdout",
     "output_type": "stream",
     "text": [
      "0.036689327109649957 0.017149832897952626\n",
      "0.00910798827724823 0.005920827056148222\n",
      "0.00551151989745986 0.00617770291864872\n",
      "0.004476293161264564 0.0037732192847345558\n",
      "0.003718946788302926 0.005890555347182921\n",
      "0.0037427141347967357 0.007139918128294604\n",
      "0.011502860073303154 0.01814079329016663\n",
      "0.013431399206473795 0.02065325652559598\n",
      "0.007582337692301406 0.005333354297493186\n",
      "0.013218086677132151 0.022984603863386882\n"
     ]
    }
   ],
   "source": [
    "# Функции активации: https://pytorch.org/docs/stable/nn.html#non-linear-activations-weighted-sum-nonlinearity\n",
    "loss_func2 = torch.nn.MSELoss()\n",
    "# https://pytorch.org/docs/stable/generated/torch.optim.SGD.html#torch.optim.SGD\n",
    "optimizer2 = torch.optim.Adam(model2.parameters(), lr=0.0001)\n",
    "\n",
    "for epoch in range(10):\n",
    "  epoch_loss_train = 0.\n",
    "  epoch_loss_test = 0.\n",
    "\n",
    "  # Обучение\n",
    "  for x, y in train_dataloader:\n",
    "\n",
    "    # Переводим данные на память текущего устройства\n",
    "    x = x.to(device)\n",
    "    y = y.to(device)\n",
    "    \n",
    "    # Делаем предсказание\n",
    "    y_pred = model2(x)\n",
    "    \n",
    "    # Считаем ошибку с помощью функции потерь\n",
    "    loss_value = loss_func2(y_pred, y.flatten(1))\n",
    "\n",
    "    # Считаем градиент функции потерь\n",
    "    loss_value.backward()\n",
    "\n",
    "    # Обновление весов модели\n",
    "    optimizer2.step()\n",
    "\n",
    "    # Сохраняем значение ошибки на данном проходе\n",
    "    epoch_loss_train += loss_value.item()\n",
    "  \n",
    "  # Валидация\n",
    "  for x, y in test_dataloader:\n",
    "\n",
    "    # Переводим данные в тензор\n",
    "    x = x.to(device)\n",
    "    y = y.to(device)\n",
    "    \n",
    "    # Делаем предсказание\n",
    "    y_pred = model2(x)\n",
    "\n",
    "    # Считаем ошибку с помощью функции потерь\n",
    "    loss_value = loss_func2(y_pred, y.flatten(1))\n",
    "\n",
    "    # Сохраняем значение ошибки на данном проходе\n",
    "    epoch_loss_test += loss_value.item()\n",
    "\n",
    "  # Выводим средние значение ошибки\n",
    "  print(epoch_loss_train/len(train_dataloader), epoch_loss_test/len(test_dataloader))"
   ]
  },
  {
   "cell_type": "code",
   "execution_count": 308,
   "id": "b520997a",
   "metadata": {},
   "outputs": [
    {
     "ename": "RuntimeError",
     "evalue": "mat1 and mat2 shapes cannot be multiplied (7x21 and 147x512)",
     "output_type": "error",
     "traceback": [
      "\u001b[1;31m---------------------------------------------------------------------------\u001b[0m",
      "\u001b[1;31mRuntimeError\u001b[0m                              Traceback (most recent call last)",
      "Cell \u001b[1;32mIn[308], line 2\u001b[0m\n\u001b[0;32m      1\u001b[0m buf2 \u001b[38;5;241m=\u001b[39m torch\u001b[38;5;241m.\u001b[39mtensor(data[\u001b[38;5;241m-\u001b[39m\u001b[38;5;241m2\u001b[39m])\u001b[38;5;241m.\u001b[39mfloat()\n\u001b[1;32m----> 2\u001b[0m \u001b[38;5;28mprint\u001b[39m(\u001b[43mmodel\u001b[49m\u001b[43m(\u001b[49m\u001b[43mbuf\u001b[49m\u001b[43m)\u001b[49m)\n\u001b[0;32m      3\u001b[0m a2 \u001b[38;5;241m=\u001b[39m model(buf)\n\u001b[0;32m      4\u001b[0m a2\u001b[38;5;241m.\u001b[39mreshape(\u001b[38;5;241m7\u001b[39m, \u001b[38;5;241m21\u001b[39m)\n",
      "File \u001b[1;32m~\\anaconda3\\envs\\TensorflowEnv\\lib\\site-packages\\torch\\nn\\modules\\module.py:1130\u001b[0m, in \u001b[0;36mModule._call_impl\u001b[1;34m(self, *input, **kwargs)\u001b[0m\n\u001b[0;32m   1126\u001b[0m \u001b[38;5;66;03m# If we don't have any hooks, we want to skip the rest of the logic in\u001b[39;00m\n\u001b[0;32m   1127\u001b[0m \u001b[38;5;66;03m# this function, and just call forward.\u001b[39;00m\n\u001b[0;32m   1128\u001b[0m \u001b[38;5;28;01mif\u001b[39;00m \u001b[38;5;129;01mnot\u001b[39;00m (\u001b[38;5;28mself\u001b[39m\u001b[38;5;241m.\u001b[39m_backward_hooks \u001b[38;5;129;01mor\u001b[39;00m \u001b[38;5;28mself\u001b[39m\u001b[38;5;241m.\u001b[39m_forward_hooks \u001b[38;5;129;01mor\u001b[39;00m \u001b[38;5;28mself\u001b[39m\u001b[38;5;241m.\u001b[39m_forward_pre_hooks \u001b[38;5;129;01mor\u001b[39;00m _global_backward_hooks\n\u001b[0;32m   1129\u001b[0m         \u001b[38;5;129;01mor\u001b[39;00m _global_forward_hooks \u001b[38;5;129;01mor\u001b[39;00m _global_forward_pre_hooks):\n\u001b[1;32m-> 1130\u001b[0m     \u001b[38;5;28;01mreturn\u001b[39;00m forward_call(\u001b[38;5;241m*\u001b[39m\u001b[38;5;28minput\u001b[39m, \u001b[38;5;241m*\u001b[39m\u001b[38;5;241m*\u001b[39mkwargs)\n\u001b[0;32m   1131\u001b[0m \u001b[38;5;66;03m# Do not call functions when jit is used\u001b[39;00m\n\u001b[0;32m   1132\u001b[0m full_backward_hooks, non_full_backward_hooks \u001b[38;5;241m=\u001b[39m [], []\n",
      "File \u001b[1;32m~\\anaconda3\\envs\\TensorflowEnv\\lib\\site-packages\\torch\\nn\\modules\\container.py:139\u001b[0m, in \u001b[0;36mSequential.forward\u001b[1;34m(self, input)\u001b[0m\n\u001b[0;32m    137\u001b[0m \u001b[38;5;28;01mdef\u001b[39;00m \u001b[38;5;21mforward\u001b[39m(\u001b[38;5;28mself\u001b[39m, \u001b[38;5;28minput\u001b[39m):\n\u001b[0;32m    138\u001b[0m     \u001b[38;5;28;01mfor\u001b[39;00m module \u001b[38;5;129;01min\u001b[39;00m \u001b[38;5;28mself\u001b[39m:\n\u001b[1;32m--> 139\u001b[0m         \u001b[38;5;28minput\u001b[39m \u001b[38;5;241m=\u001b[39m \u001b[43mmodule\u001b[49m\u001b[43m(\u001b[49m\u001b[38;5;28;43minput\u001b[39;49m\u001b[43m)\u001b[49m\n\u001b[0;32m    140\u001b[0m     \u001b[38;5;28;01mreturn\u001b[39;00m \u001b[38;5;28minput\u001b[39m\n",
      "File \u001b[1;32m~\\anaconda3\\envs\\TensorflowEnv\\lib\\site-packages\\torch\\nn\\modules\\module.py:1130\u001b[0m, in \u001b[0;36mModule._call_impl\u001b[1;34m(self, *input, **kwargs)\u001b[0m\n\u001b[0;32m   1126\u001b[0m \u001b[38;5;66;03m# If we don't have any hooks, we want to skip the rest of the logic in\u001b[39;00m\n\u001b[0;32m   1127\u001b[0m \u001b[38;5;66;03m# this function, and just call forward.\u001b[39;00m\n\u001b[0;32m   1128\u001b[0m \u001b[38;5;28;01mif\u001b[39;00m \u001b[38;5;129;01mnot\u001b[39;00m (\u001b[38;5;28mself\u001b[39m\u001b[38;5;241m.\u001b[39m_backward_hooks \u001b[38;5;129;01mor\u001b[39;00m \u001b[38;5;28mself\u001b[39m\u001b[38;5;241m.\u001b[39m_forward_hooks \u001b[38;5;129;01mor\u001b[39;00m \u001b[38;5;28mself\u001b[39m\u001b[38;5;241m.\u001b[39m_forward_pre_hooks \u001b[38;5;129;01mor\u001b[39;00m _global_backward_hooks\n\u001b[0;32m   1129\u001b[0m         \u001b[38;5;129;01mor\u001b[39;00m _global_forward_hooks \u001b[38;5;129;01mor\u001b[39;00m _global_forward_pre_hooks):\n\u001b[1;32m-> 1130\u001b[0m     \u001b[38;5;28;01mreturn\u001b[39;00m forward_call(\u001b[38;5;241m*\u001b[39m\u001b[38;5;28minput\u001b[39m, \u001b[38;5;241m*\u001b[39m\u001b[38;5;241m*\u001b[39mkwargs)\n\u001b[0;32m   1131\u001b[0m \u001b[38;5;66;03m# Do not call functions when jit is used\u001b[39;00m\n\u001b[0;32m   1132\u001b[0m full_backward_hooks, non_full_backward_hooks \u001b[38;5;241m=\u001b[39m [], []\n",
      "File \u001b[1;32m~\\anaconda3\\envs\\TensorflowEnv\\lib\\site-packages\\torch\\nn\\modules\\linear.py:114\u001b[0m, in \u001b[0;36mLinear.forward\u001b[1;34m(self, input)\u001b[0m\n\u001b[0;32m    113\u001b[0m \u001b[38;5;28;01mdef\u001b[39;00m \u001b[38;5;21mforward\u001b[39m(\u001b[38;5;28mself\u001b[39m, \u001b[38;5;28minput\u001b[39m: Tensor) \u001b[38;5;241m-\u001b[39m\u001b[38;5;241m>\u001b[39m Tensor:\n\u001b[1;32m--> 114\u001b[0m     \u001b[38;5;28;01mreturn\u001b[39;00m \u001b[43mF\u001b[49m\u001b[38;5;241;43m.\u001b[39;49m\u001b[43mlinear\u001b[49m\u001b[43m(\u001b[49m\u001b[38;5;28;43minput\u001b[39;49m\u001b[43m,\u001b[49m\u001b[43m \u001b[49m\u001b[38;5;28;43mself\u001b[39;49m\u001b[38;5;241;43m.\u001b[39;49m\u001b[43mweight\u001b[49m\u001b[43m,\u001b[49m\u001b[43m \u001b[49m\u001b[38;5;28;43mself\u001b[39;49m\u001b[38;5;241;43m.\u001b[39;49m\u001b[43mbias\u001b[49m\u001b[43m)\u001b[49m\n",
      "\u001b[1;31mRuntimeError\u001b[0m: mat1 and mat2 shapes cannot be multiplied (7x21 and 147x512)"
     ]
    }
   ],
   "source": [
    "buf2 = torch.tensor(data[-2]).float()\n",
    "print(model(buf))\n",
    "a2 = model(buf)\n",
    "a2.reshape(7, 21)\n",
    "pr_array2 = [tensor.detach().numpy() for tensor in a]\n",
    "pr_array2 = pr_array[0].reshape(7, 21)\n",
    "# Inverse transform to get the original values\n",
    "original_array2 = scaler.inverse_transform(pr_array.reshape(-1, 1))\n",
    "\n",
    "# Reshape the original array back to its original shape\n",
    "pr_array2 = np.reshape(original_array, pr_array.shape)\n",
    "pr_array2\n"
   ]
  },
  {
   "cell_type": "markdown",
   "id": "0b7688da",
   "metadata": {},
   "source": [
    "0.007611702796610364 0.008222391607151144\n",
    "0.010805635410080472 0.01273343623394058\n",
    "0.01327500799783023 0.01228741148398036\n",
    "0.01036674137148692 0.0072614384504656\n",
    "0.00542179437309324 0.004623649819266228\n",
    "0.006821801863520978 0.011467452027967997\n",
    "0.016804349563836335 0.023336491946663176\n",
    "0.02287733985717038 0.020272679981731233\n",
    "0.010999273654656956 0.004218991646277053\n",
    "0.0068769870993557825 0.01514503430752527\n",
    "\n",
    "loss_func = torch.nn.MSELoss()\n",
    "\n",
    "optimizer = torch.optim.Adam(model.parameters(), lr=0.0001)\n",
    "\n",
    "0.05660708859024278 0.05494720772618339\n",
    "0.050581237144139875 0.04898328813058989\n",
    "0.04500743338322065 0.043634503902423946\n",
    "0.03998961905578533 0.03878194359796388\n",
    "0.03541731134236577 0.03431160038425809\n",
    "0.03117571863155049 0.03011469684896015\n",
    "0.027171191119824547 0.02611334409032549\n",
    "0.02335875521761825 0.022298233228779975\n",
    "0.01976783077670149 0.018731800661910148\n",
    "0.016483427496649414 0.015514766176541647\n",
    "\n",
    "1 2\n",
    "\n",
    ".011859016016080796 0.007173443323976937\n",
    "0.08379888351226832 0.0034895422092328468\n",
    "0.18567820878261812 0.5802311329614549\n",
    "0.3095384878050311 1.0969408523468744\n",
    "0.3695627156734826 0.5071965995289031\n",
    "0.39502059946577234 0.8577420966965812\n",
    "1.0654165831405715 0.8656907706033616\n",
    "0.4193625012076045 0.43931903157915386\n",
    "3.3919475876602783 14.218680654253278\n",
    "5.869964987488396 1.2100748107546853\n",
    "\n",
    "2 2\n",
    "\n",
    "0.036689327109649957 0.017149832897952626\n",
    "0.00910798827724823 0.005920827056148222\n",
    "0.00551151989745986 0.00617770291864872\n",
    "0.004476293161264564 0.0037732192847345558\n",
    "0.003718946788302926 0.005890555347182921\n",
    "0.0037427141347967357 0.007139918128294604\n",
    "0.011502860073303154 0.01814079329016663\n",
    "0.013431399206473795 0.02065325652559598\n",
    "0.007582337692301406 0.005333354297493186\n",
    "0.013218086677132151 0.022984603863386882"
   ]
  },
  {
   "cell_type": "code",
   "execution_count": 342,
   "id": "227b501d",
   "metadata": {},
   "outputs": [],
   "source": [
    "array1_1 = [0.008222391607151144, 0.01273343623394058, 0.01228741148398036, 0.0072614384504656, 0.004623649819266228, 0.011467452027967997, 0.023336491946663176, 0.020272679981731233, 0.004218991646277053, 0.01514503430752527]\n",
    "array2_1 = [0.05494720772618339, 0.04898328813058989, 0.043634503902423946, 0.03878194359796388, 0.03431160038425809, 0.03011469684896015, 0.02611334409032549, 0.022298233228779975, 0.018731800661910148,0.015514766176541647]\n",
    "array1_2 = [0.007173443323976937, 0.0034895422092328468, 0.5802311329614549, 1.0969408523468744, 0.5071965995289031, 0.8577420966965812, 0.8656907706033616, 0.43931903157915386, 1.518680654253278, 1.2100748107546853]\n",
    "array2_2 = [0.017149832897952626, 0.005920827056148222, 0.00617770291864872, 0.0037732192847345558, 0.005890555347182921, 0.007139918128294604, 0.01814079329016663, 0.02065325652559598, 0.005333354297493186, 0.022984603863386882]\n",
    "x = [1, 2, 3, 4, 5, 6 , 7, 8, 9, 10]"
   ]
  },
  {
   "cell_type": "code",
   "execution_count": 347,
   "id": "e09f1fa2",
   "metadata": {},
   "outputs": [
    {
     "data": {
      "image/png": "[encoded data removed]",
      "text/plain": [
       "<Figure size 640x480 with 1 Axes>"
      ]
     },
     "metadata": {},
     "output_type": "display_data"
    }
   ],
   "source": [
    "import matplotlib.pyplot as plt\n",
    "# Set up the plot\n",
    "plt.plot(x, array1_1, marker='o', label='Model 1')\n",
    "# plt.plot(x, array2_1, marker='s', label='Dictionary 2')\n",
    "# plt.plot(x, array1_2, marker='^', label='Dictionary 3')\n",
    "plt.plot(x, array2_2, marker='^', label='Model 2')\n",
    "# Display the plot\n",
    "plt.xlabel('Epochs')\n",
    "plt.ylabel('MSELoss on train')\n",
    "plt.title('Metrics visualisation')\n",
    "plt.legend()\n",
    "plt.show()"
   ]
  },
  {
   "cell_type": "code",
   "execution_count": 350,
   "id": "b5c472b8",
   "metadata": {},
   "outputs": [
    {
     "data": {
      "text/plain": [
       "array([[0.00012361]])"
      ]
     },
     "execution_count": 350,
     "metadata": {},
     "output_type": "execute_result"
    }
   ],
   "source": [
    "scaler.inverse_transform([[0.063]])"
   ]
  },
  {
   "cell_type": "markdown",
   "id": "a5dd54d5",
   "metadata": {},
   "source": [
    "# RCNN"
   ]
  },
  {
   "cell_type": "code",
   "execution_count": 531,
   "id": "1ab65b06",
   "metadata": {},
   "outputs": [],
   "source": [
    "import numpy as np\n",
    "import matplotlib.pyplot as plt\n",
    "import torch\n",
    "import torch.nn as nn\n",
    "data = data.squeeze()\n",
    "device = torch.device('cuda' if torch.cuda.is_available() else 'cpu')"
   ]
  },
  {
   "cell_type": "code",
   "execution_count": 532,
   "id": "816387ab",
   "metadata": {},
   "outputs": [
    {
     "name": "stdout",
     "output_type": "stream",
     "text": [
      "(1316, 7, 1, 7, 21) (323, 7, 1, 7, 21)\n",
      "(1316, 1, 1, 7, 21) (323, 1, 1, 7, 21)\n"
     ]
    }
   ],
   "source": [
    "X = []\n",
    "Y = []\n",
    "\n",
    "for i in range(0, N-7):\n",
    "  X.append(data[i:i+7])\n",
    "  Y.append(data[i+7:i+8])\n",
    "\n",
    "X = np.array(X)\n",
    "Y = np.array(Y)\n",
    "\n",
    "X = np.expand_dims(X, 2)\n",
    "Y = np.expand_dims(Y, 2)\n",
    "\n",
    "# Разбиваем на test train\n",
    "X_train, Y_train = X[:int(0.8*N)], Y[:int(0.8*N)]\n",
    "X_test, Y_test = X[int(0.8*N):], Y[int(0.8*N):]\n",
    "\n",
    "print(X_train.shape, X_test.shape)\n",
    "print(Y_train.shape, Y_test.shape)"
   ]
  },
  {
   "cell_type": "code",
   "execution_count": 533,
   "id": "60db9300",
   "metadata": {},
   "outputs": [],
   "source": [
    "class CRNN(nn.Module):\n",
    "    def __init__(self):\n",
    "        super(CRNN, self).__init__()\n",
    "        self.conv = nn.Sequential(\n",
    "            nn.Conv2d(1, 64, kernel_size=2, stride=1, padding=1),\n",
    "            nn.ReLU(inplace=True),\n",
    "            nn.MaxPool2d(kernel_size=2, stride=2),\n",
    "            nn.Conv2d(64, 128, kernel_size=2, stride=1, padding=1),\n",
    "            nn.BatchNorm2d(128),\n",
    "            nn.ReLU(inplace=True),\n",
    "            nn.MaxPool2d(kernel_size=(2, 1), stride=(2, 1)),\n",
    "            nn.Conv2d(128, 128, kernel_size=2, stride=1),\n",
    "            nn.BatchNorm2d(128),\n",
    "            nn.ReLU(inplace=True)\n",
    "        )\n",
    "        \n",
    "        self.rnn = nn.GRU(128, 256, bidirectional=False, num_layers=2, dropout=0.5)\n",
    "        self.fc = nn.Linear(256 * 2, 7*21)\n",
    "        \n",
    "    def forward(self, x):\n",
    "        # Shape of x: (batch_size, seq_length, channels, height, width)\n",
    "        batch_size, seq_length, channels, height, width = x.size()\n",
    "        x = x.view(batch_size * seq_length, channels, height, width)\n",
    "        \n",
    "        x = self.conv(x)\n",
    "        x = x.squeeze(2)\n",
    "        x = x.permute(2, 0, 1)\n",
    "        _, hidden = self.rnn(x)\n",
    "        hidden = hidden.permute(1, 0, 2).contiguous().view(-1, 256 * 2)\n",
    "        output = self.fc(hidden)\n",
    "        output = output.view(batch_size, seq_length, -1)\n",
    "        return output[:, -1, :].reshape(-1, 1, 7, 21)  # Return prediction for the last day"
   ]
  },
  {
   "cell_type": "code",
   "execution_count": 534,
   "id": "8458d37f",
   "metadata": {},
   "outputs": [],
   "source": [
    "# Создание загрузчика данных\n",
    "train_dataloader = torch.utils.data.DataLoader(list(zip(X_train, Y_train)), batch_size=16)\n",
    "test_dataloader = torch.utils.data.DataLoader(list(zip(X_test, Y_test)), batch_size=16)"
   ]
  },
  {
   "cell_type": "code",
   "execution_count": 535,
   "id": "8232eacd",
   "metadata": {},
   "outputs": [
    {
     "data": {
      "text/plain": [
       "(torch.Size([16, 7, 1, 7, 21]), torch.Size([16, 1, 1, 7, 21]))"
      ]
     },
     "execution_count": 535,
     "metadata": {},
     "output_type": "execute_result"
    }
   ],
   "source": [
    "for x, y in train_dataloader:\n",
    "  break\n",
    "\n",
    "x.shape, y.shape"
   ]
  },
  {
   "cell_type": "code",
   "execution_count": 536,
   "id": "e5bcd574",
   "metadata": {},
   "outputs": [],
   "source": [
    "# Создаем модель\n",
    "model = CRNN()"
   ]
  },
  {
   "cell_type": "code",
   "execution_count": 537,
   "id": "ac1c56d2",
   "metadata": {},
   "outputs": [
    {
     "name": "stdout",
     "output_type": "stream",
     "text": [
      "0.025098751461784165 0.007851728105119296\n",
      "0.0043360997855394 0.003643564757935348\n",
      "0.0033006700126072728 0.003006901015483198\n",
      "0.0025058545211487145 0.002219058983471422\n",
      "0.0017973202987607703 0.0015845286571198986\n",
      "0.0015376009445368167 0.0015158222966073524\n",
      "0.0014944687003202468 0.0015212531711551406\n",
      "0.0014999348400946122 0.0012477151328875195\n",
      "0.0019201303724233195 0.0015396566429574574\n",
      "0.002610934730647244 0.0013850321660616568\n",
      "0.004072348845292287 0.0044519576421451\n",
      "0.004201995527949633 0.009167871792756375\n",
      "0.004009950604480523 0.005545004559237333\n",
      "0.008537448297467935 0.006212244630746898\n",
      "0.0019484836578716983 0.0031683700092669043\n",
      "0.006718938466139048 0.004301467688665504\n",
      "0.0017618081204211675 0.002521483748707743\n",
      "0.005029543628355107 0.00631842203438282\n",
      "0.003551861365235983 0.0013586435455917602\n",
      "0.0012262571274852716 0.0025179436363812003\n"
     ]
    }
   ],
   "source": [
    "loss_func = torch.nn.MSELoss()\n",
    "optimizer = torch.optim.Adam(model.parameters(), lr=0.00001)\n",
    "\n",
    "# Кол-во эпох\n",
    "n_epochs = 20\n",
    "\n",
    "history = {\n",
    "    'train_loss': [],\n",
    "    'test_loss': []\n",
    "}\n",
    "\n",
    "for epoch in range(n_epochs):\n",
    "  epoch_loss_train = 0.\n",
    "  epoch_loss_test = 0.\n",
    "\n",
    "  # Обучение\n",
    "  for x, y in train_dataloader:\n",
    "\n",
    "    # Переводим данные на память текущего устройства\n",
    "    x = x.to(device)\n",
    "    y = y.to(device)\n",
    "    \n",
    "    # Делаем предсказание\n",
    "    y_pred = model(x)\n",
    "\n",
    "    # Считаем ошибку с помощью функции потерь\n",
    "    loss_value = loss_func(y_pred, y.flatten(1,2))\n",
    "\n",
    "    # Считаем градиент функции потерь\n",
    "    loss_value.backward()\n",
    "\n",
    "    # Обновление весов модели\n",
    "    optimizer.step()\n",
    "\n",
    "    # Сохраняем значение ошибки на данном проходе\n",
    "    epoch_loss_train += loss_value.item()\n",
    "  \n",
    "  # Валидация\n",
    "  for x, y in test_dataloader:\n",
    "\n",
    "    # Переводим данные в тензор\n",
    "    x = x.to(device)\n",
    "    y = y.to(device)\n",
    "    \n",
    "    # Делаем предсказание\n",
    "    y_pred = model(x)\n",
    "\n",
    "    # Считаем ошибку с помощью функции потерь\n",
    "    loss_value = loss_func(y_pred, y.flatten(1, 2))\n",
    "\n",
    "    # Сохраняем значение ошибки на данном проходе\n",
    "    epoch_loss_test += loss_value.item()\n",
    "\n",
    "  history['train_loss'].append(epoch_loss_train/len(train_dataloader))\n",
    "  history['test_loss'].append(epoch_loss_test/len(test_dataloader))\n",
    "\n",
    "  # Выводим средние значение ошибки\n",
    "  print(history['train_loss'][-1], history['test_loss'][-1])"
   ]
  },
  {
   "cell_type": "code",
   "execution_count": 538,
   "id": "7786f2b3",
   "metadata": {},
   "outputs": [
    {
     "data": {
      "image/png": "[encoded data removed]",
      "text/plain": [
       "<Figure size 640x480 with 1 Axes>"
      ]
     },
     "metadata": {},
     "output_type": "display_data"
    }
   ],
   "source": [
    "plt.plot(range(n_epochs), history['train_loss'])\n",
    "plt.plot(range(n_epochs), history['test_loss'])\n",
    "plt.legend(['train_loss', 'test_loss']);"
   ]
  },
  {
   "cell_type": "markdown",
   "id": "5a2bfb58",
   "metadata": {},
   "source": [
    "# Predictions"
   ]
  },
  {
   "cell_type": "code",
   "execution_count": 539,
   "id": "8152f971",
   "metadata": {},
   "outputs": [],
   "source": [
    "def predict(input, model, days=1):\n",
    "  input = input.unsqueeze(0)\n",
    "  result = []\n",
    "  for day in range(days):\n",
    "    output = model(input)\n",
    "    result.append(output)\n",
    "    input = torch.cat([input[:,1:,:,:], output.reshape(1, 1, 1, 7, 21)], dim=1) \n",
    "  return torch.stack(result)"
   ]
  },
  {
   "cell_type": "code",
   "execution_count": 545,
   "id": "bcac66e5",
   "metadata": {},
   "outputs": [],
   "source": [
    "result = predict(x[0], model, days=365)\n",
    "k = result"
   ]
  },
  {
   "cell_type": "code",
   "execution_count": 546,
   "id": "8dcb540f",
   "metadata": {},
   "outputs": [
    {
     "name": "stdout",
     "output_type": "stream",
     "text": [
      "tensor([[[[[0.2307, 0.2200, 0.2601,  ..., 0.2503, 0.2636, 0.1979],\n",
      "           [0.2608, 0.2143, 0.1813,  ..., 0.2555, 0.2758, 0.2632],\n",
      "           [0.2646, 0.1478, 0.2464,  ..., 0.2483, 0.2514, 0.2437],\n",
      "           ...,\n",
      "           [0.2386, 0.2222, 0.2360,  ..., 0.2046, 0.2700, 0.2110],\n",
      "           [0.2330, 0.2823, 0.2246,  ..., 0.2427, 0.2740, 0.1981],\n",
      "           [0.2827, 0.2578, 0.2322,  ..., 0.2572, 0.2483, 0.2778]]]],\n",
      "\n",
      "\n",
      "\n",
      "        [[[[0.2342, 0.2314, 0.2825,  ..., 0.2924, 0.2676, 0.2226],\n",
      "           [0.2989, 0.2341, 0.2209,  ..., 0.2532, 0.2812, 0.2668],\n",
      "           [0.2813, 0.1887, 0.2723,  ..., 0.2393, 0.2622, 0.2506],\n",
      "           ...,\n",
      "           [0.2738, 0.2376, 0.2532,  ..., 0.2081, 0.2991, 0.2265],\n",
      "           [0.2525, 0.3050, 0.2589,  ..., 0.2754, 0.2868, 0.2282],\n",
      "           [0.3065, 0.2713, 0.2718,  ..., 0.2987, 0.2592, 0.2854]]]],\n",
      "\n",
      "\n",
      "\n",
      "        [[[[0.2246, 0.2678, 0.3230,  ..., 0.3220, 0.2911, 0.2672],\n",
      "           [0.3233, 0.2516, 0.2413,  ..., 0.2724, 0.2845, 0.3026],\n",
      "           [0.3234, 0.2256, 0.2934,  ..., 0.2508, 0.3131, 0.2559],\n",
      "           ...,\n",
      "           [0.3149, 0.2475, 0.2749,  ..., 0.2703, 0.2992, 0.2418],\n",
      "           [0.2843, 0.3318, 0.3041,  ..., 0.2964, 0.3298, 0.2626],\n",
      "           [0.3337, 0.2994, 0.3118,  ..., 0.3307, 0.2577, 0.3156]]]],\n",
      "\n",
      "\n",
      "\n",
      "        ...,\n",
      "\n",
      "\n",
      "\n",
      "        [[[[0.2371, 0.2367, 0.2674,  ..., 0.2610, 0.2662, 0.2142],\n",
      "           [0.2442, 0.2101, 0.2085,  ..., 0.2652, 0.2665, 0.2546],\n",
      "           [0.2711, 0.1578, 0.2236,  ..., 0.2166, 0.2502, 0.2551],\n",
      "           ...,\n",
      "           [0.2384, 0.2341, 0.2163,  ..., 0.2029, 0.2779, 0.2053],\n",
      "           [0.2169, 0.2601, 0.2413,  ..., 0.2588, 0.2691, 0.2044],\n",
      "           [0.2837, 0.2485, 0.2489,  ..., 0.2495, 0.2511, 0.2663]]]],\n",
      "\n",
      "\n",
      "\n",
      "        [[[[0.2239, 0.2469, 0.2688,  ..., 0.2784, 0.2755, 0.2141],\n",
      "           [0.2875, 0.2249, 0.2127,  ..., 0.2705, 0.2622, 0.2641],\n",
      "           [0.2796, 0.1642, 0.2323,  ..., 0.2433, 0.2511, 0.2703],\n",
      "           ...,\n",
      "           [0.2570, 0.2342, 0.2444,  ..., 0.2263, 0.2661, 0.2331],\n",
      "           [0.2413, 0.2713, 0.2488,  ..., 0.2729, 0.2771, 0.2268],\n",
      "           [0.2907, 0.2733, 0.2437,  ..., 0.2597, 0.2558, 0.2786]]]],\n",
      "\n",
      "\n",
      "\n",
      "        [[[[0.2437, 0.2574, 0.2753,  ..., 0.2781, 0.2930, 0.2140],\n",
      "           [0.2782, 0.2241, 0.2240,  ..., 0.2692, 0.2760, 0.2834],\n",
      "           [0.2911, 0.1776, 0.2518,  ..., 0.2427, 0.2632, 0.2909],\n",
      "           ...,\n",
      "           [0.2562, 0.2304, 0.2411,  ..., 0.2187, 0.2763, 0.2311],\n",
      "           [0.2452, 0.2808, 0.2569,  ..., 0.2651, 0.2898, 0.2259],\n",
      "           [0.2974, 0.2917, 0.2591,  ..., 0.2863, 0.2565, 0.2835]]]]],\n",
      "       grad_fn=<StackBackward0>)\n"
     ]
    }
   ],
   "source": [
    "print(k)"
   ]
  },
  {
   "cell_type": "code",
   "execution_count": null,
   "id": "2a03d4c9",
   "metadata": {},
   "outputs": [],
   "source": []
  }
 ],
 "metadata": {
  "kernelspec": {
   "display_name": "Python 3 (ipykernel)",
   "language": "python",
   "name": "python3"
  },
  "language_info": {
   "codemirror_mode": {
    "name": "ipython",
    "version": 3
   },
   "file_extension": ".py",
   "mimetype": "text/x-python",
   "name": "python",
   "nbconvert_exporter": "python",
   "pygments_lexer": "ipython3",
   "version": "3.10.11"
  }
 },
 "nbformat": 4,
 "nbformat_minor": 5
}
